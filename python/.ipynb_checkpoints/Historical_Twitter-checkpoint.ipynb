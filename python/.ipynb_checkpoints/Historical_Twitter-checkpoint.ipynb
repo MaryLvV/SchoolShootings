{
 "cells": [
  {
   "cell_type": "code",
   "execution_count": null,
   "metadata": {
    "collapsed": false,
    "scrolled": true
   },
   "outputs": [],
   "source": [
    "import glob\n",
    "import pandas as pd\n",
    "import json\n",
    "from IPython.display import Audio\n",
    "\n",
    "sound_file = 'http://www.nebo.edu/learning_resources/ppt/sounds/cheer.wav'\n",
    "\n",
    "def get_body(tweet):\n",
    "    body = tweet.get('body')\n",
    "    if body == None: return 'NA'\n",
    "    return body\n",
    "    \n",
    "def get_datetime (tweet):\n",
    "    datetime = tweet.get('postedTime')\n",
    "    if datetime == None: return 'NA'\n",
    "    return datetime\n",
    "    \n",
    "def get_location(tweet):\n",
    "    actor = tweet.get('actor')\n",
    "    if actor == None: return 'NA'\n",
    "    \n",
    "    location = actor.get('location')\n",
    "    if location == None: return 'NA'\n",
    "    \n",
    "    display_name = location.get('displayName')\n",
    "    if display_name == None: return 'NA'\n",
    "    \n",
    "    return display_name\n",
    "\n",
    "\n",
    "json_folders = ['VATech/*.json','Umpqua/*.json'] \n",
    "dframes = {0:'VT_tweets', 1:'Umpqua_tweets'}\n",
    "for i in range(len(json_folders)):\n",
    "    tweets_data = []\n",
    "    for file in glob.iglob(json_folders[i], recursive=True):\n",
    "        tweets_file = open(file, \"r\")\n",
    "        for line in tweets_file:\n",
    "            try:\n",
    "                if 'body' in line:\n",
    "                    tweet = json.loads(line)\n",
    "                    tweets_data.append(tweet)\n",
    "            except:\n",
    "                continue\n",
    "                \n",
    "dframes[i] = pd.DataFrame()\n",
    "dframes[i]['tweet'] = [get_body(tweet) for tweet in tweets_data]\n",
    "dframes[i]['datetime'] = [get_datetime(tweet) for tweet in tweets_data]\n",
    "dframes[i]['location'] = [get_location(tweet) for tweet in tweets_data]\n",
    "\n",
    "Audio(url = sound_file, autoplay = True)\n"
   ]
  },
  {
   "cell_type": "code",
   "execution_count": 13,
   "metadata": {
    "collapsed": false
   },
   "outputs": [],
   "source": [
    "import feather\n",
    "feather.write_dataframe(dframes[0],'./tweets_df/vt_tweets.feather')\n",
    "feather.write_dataframe(dframes[1],'./tweets_df/umpqua_tweets.feather')\n",
    "#feather.write_dataframe(dframes[2],'./tweets_df/sh_tweets.feather')"
   ]
  },
  {
   "cell_type": "code",
   "execution_count": null,
   "metadata": {
    "collapsed": true
   },
   "outputs": [],
   "source": [
    "#Sandy Hook data (4000+ files using 3.05 GB space) is too big for my MB Pro with 16GB RAM \n",
    "#to process using the code above, I have chunked it into 8 groups \n",
    "#and will run the following script on the 8 subdirectories (in the terminal, 4 at a time) \n",
    "#to create 8 feather dataframes that can later be merged into a single dataframe\n",
    "\n",
    "input_folder = 'SandyHook/SH1/*.json'\n",
    "output_file = './tweets_df/SH1.feather'\n",
    "tweets_data =[]\n",
    "file_count = 0\n",
    "for file in glob.iglob(input_folder, recursive=True):\n",
    "        tweets_file = open(file, \"r\")\n",
    "        file_count = file_count + 1\n",
    "        if file_count % 50 == 0:\n",
    "            print('file count is ' + str(file_count))\n",
    "        for line in tweets_file:\n",
    "            try:\n",
    "                if 'body' in line:\n",
    "                    tweet = json.loads(line)\n",
    "                    tweets_data.append(tweet)\n",
    "            except:\n",
    "                continue\n",
    "                \n",
    "df = pd.DataFrame()\n",
    "df['tweet'] = [get_body(tweet) for tweet in tweets_data]\n",
    "df['datetime'] = [get_datetime(tweet) for tweet in tweets_data]\n",
    "df ['location'] = [get_location(tweet) for tweet in tweets_data]\n",
    "\n",
    "feather.write_dataframe(df, output_file)"
   ]
  }
 ],
 "metadata": {
  "kernelspec": {
   "display_name": "Python 3",
   "language": "python",
   "name": "python3"
  },
  "language_info": {
   "codemirror_mode": {
    "name": "ipython",
    "version": 3
   },
   "file_extension": ".py",
   "mimetype": "text/x-python",
   "name": "python",
   "nbconvert_exporter": "python",
   "pygments_lexer": "ipython3",
   "version": "3.5.1"
  }
 },
 "nbformat": 4,
 "nbformat_minor": 0
}
