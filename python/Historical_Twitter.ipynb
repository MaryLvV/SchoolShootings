{
 "cells": [
  {
   "cell_type": "code",
   "execution_count": null,
   "metadata": {
    "collapsed": false,
    "scrolled": true
   },
   "outputs": [],
   "source": [
    "import glob\n",
    "import pandas as pd\n",
    "import json\n",
    "from IPython.display import Audio\n",
    "\n",
    "sound_file = 'http://www.nebo.edu/learning_resources/ppt/sounds/cheer.wav'\n",
    "\n",
    "def get_body(tweet):\n",
    "    body = tweet.get('body')\n",
    "    if body == None: return 'NA'\n",
    "    return body\n",
    "    \n",
    "def get_datetime (tweet):\n",
    "    datetime = tweet.get('postedTime')\n",
    "    if datetime == None: return 'NA'\n",
    "    return datetime\n",
    "    \n",
    "def get_location(tweet):\n",
    "    location = tweet.get('location')\n",
    "    if location == None: return 'NA'\n",
    "    display_name = location.get('displayName')\n",
    "    if display_name == None: return 'NA'\n",
    "    return display_name\n",
    "\n",
    "def get_country(tweet):\n",
    "    location = tweet.get('location')\n",
    "    if location == None: return 'NA'\n",
    "    country = location.get('country_code')\n",
    "    if country == None: return 'NA'\n",
    "    return country\n",
    "\n",
    "def get_geo(tweet):\n",
    "    geo_coords = tweet.get('geo')\n",
    "    if geo_coords == None: return 'NA'\n",
    "    return geo_coords\n",
    "\n",
    "VT_tweets = pd.DataFrame()\n",
    "Umpqua_tweets = pd.DataFrame()\n",
    "#SandyHook_tweets = pd.DataFrame()\n",
    "json_folders = ['VATech/*.json','Umpqua/*.json'] \n",
    "dframes = {0:VT_tweets, 1:Umpqua_tweets}\n",
    "\n",
    "for i in range(len(json_folders)):\n",
    "    tweets_data = []\n",
    "    for file in glob.iglob(json_folders[i], recursive=True):\n",
    "        tweets_file = open(file, \"r\")\n",
    "        for line in tweets_file:\n",
    "            try:\n",
    "                if 'body' in line:\n",
    "                    tweet = json.loads(line)\n",
    "                    tweets_data.append(tweet)\n",
    "            except:\n",
    "                continue\n",
    "                \n",
    "    dframes[i]['tweet'] = [get_body(tweet) for tweet in tweets_data]\n",
    "    dframes[i]['datetime'] = [get_datetime(tweet) for tweet in tweets_data]\n",
    "    dframes[i]['location'] = [get_location(tweet) for tweet in tweets_data]\n",
    "    dframes[i]['country'] = [get_country(tweet) for tweet in tweets_data]\n",
    "    dframes[i]['latlong'] = [get_geo(tweet) for tweet in tweets_data]\n",
    "\n",
    "Audio(url = sound_file, autoplay = True)"
   ]
  },
  {
   "cell_type": "code",
   "execution_count": null,
   "metadata": {
    "collapsed": false
   },
   "outputs": [],
   "source": [
    "import feather\n",
    "feather.write_dataframe(dframes[0],'./tweets_df/vt_tweets.feather')\n",
    "feather.write_dataframe(dframes[1],'./tweets_df/umpqua_tweets.feather')\n",
    "#feather.write_dataframe(dframes[2],'./tweets_df/sh_tweets.feather')"
   ]
  },
  {
   "cell_type": "code",
   "execution_count": null,
   "metadata": {
    "collapsed": false
   },
   "outputs": [],
   "source": [
    "#Sandy Hook data (4000+ files using 3.05 GB space) is too big for my MB Pro with 16GB RAM \n",
    "#to process using the code above, I have chunked it into 8 groups \n",
    "#and will run the following script eight times to create 8 feather dataframes\n",
    "#that can later be joined into a single dataframe\n",
    "import glob\n",
    "import pandas as pd\n",
    "import json\n",
    "import feather\n",
    "\n",
    "def get_body(tweet):\n",
    "    body = tweet.get('body')\n",
    "    if body == None: return 'NA'\n",
    "    return body\n",
    "    \n",
    "def get_datetime (tweet):\n",
    "    datetime = tweet.get('postedTime')\n",
    "    if datetime == None: return 'NA'\n",
    "    return datetime\n",
    "    \n",
    "def get_location(tweet):\n",
    "    location = tweet.get('location')\n",
    "    if location == None: return 'NA'\n",
    "    display_name = location.get('displayName')\n",
    "    if display_name == None: return 'NA'\n",
    "    return display_name\n",
    "\n",
    "def get_country(tweet):\n",
    "    location = tweet.get('location')\n",
    "    if location == None: return 'NA'\n",
    "    country = location.get('country_code')\n",
    "    if country == None: return 'NA'\n",
    "    return country\n",
    "\n",
    "def get_geo(tweet):\n",
    "    geo_coords = tweet.get('geo')\n",
    "    if geo_coords == None: return 'NA'\n",
    "    return geo_coords\n",
    "\n",
    "input_folder = 'SandyHook/SH1/*.json'\n",
    "output_file = './tweets_df/sh1.feather'\n",
    "tweets_data =[]\n",
    "file_count = 0\n",
    "for file in glob.iglob(input_folder, recursive=True):\n",
    "        tweets_file = open(file, \"r\")\n",
    "        file_count = file_count + 1\n",
    "        if file_count % 50 == 0:\n",
    "            print('file count is ' + str(file_count))\n",
    "        for line in tweets_file:\n",
    "            try:\n",
    "                if 'body' in line:\n",
    "                    tweet = json.loads(line)\n",
    "                    tweets_data.append(tweet)\n",
    "            except:\n",
    "                continue\n",
    "                \n",
    "df = pd.DataFrame()\n",
    "df['tweet'] = [get_body(tweet) for tweet in tweets_data]\n",
    "df['datetime'] = [get_datetime(tweet) for tweet in tweets_data]\n",
    "df['location'] = [get_location(tweet) for tweet in tweets_data]\n",
    "df['country'] = [get_country(tweet) for tweet in tweets_data]\n",
    "df['latlong'] = [get_geo(tweet) for tweet in tweets_data]\n",
    "feather.write_dataframe(df, output_file)"
   ]
  },
  {
   "cell_type": "code",
   "execution_count": null,
   "metadata": {
    "collapsed": false
   },
   "outputs": [],
   "source": [
    "df\n"
   ]
  },
  {
   "cell_type": "code",
   "execution_count": null,
   "metadata": {
    "collapsed": true
   },
   "outputs": [],
   "source": [
    "#import feather\n",
    "#import pandas as pd\n",
    "import numpy as np\n",
    "\n",
    "sh1 = feather.read_dataframe('./tweets_df/sh1.feather')\n",
    "sh2 = feather.read_dataframe('./tweets_df/sh2.feather')\n",
    "sh3 = feather.read_dataframe('./tweets_df/sh3.feather')\n",
    "sh4 = feather.read_dataframe('./tweets_df/sh4.feather')\n",
    "sh5 = feather.read_dataframe('./tweets_df/sh5.feather')\n",
    "sh6 = feather.read_dataframe('./tweets_df/sh6.feather')\n",
    "sh7 = feather.read_dataframe('./tweets_df/sh7.feather')\n",
    "sh8 = feather.read_dataframe('./tweets_df/sh8.feather')"
   ]
  },
  {
   "cell_type": "code",
   "execution_count": null,
   "metadata": {
    "collapsed": true
   },
   "outputs": [],
   "source": [
    "sh_frames = [sh1, sh2, sh3, sh4, sh5, sh6, sh7, sh8]\n",
    "sh_tweets = pd.concat(sh_frames)"
   ]
  },
  {
   "cell_type": "code",
   "execution_count": null,
   "metadata": {
    "collapsed": false
   },
   "outputs": [],
   "source": [
    "sh_tweets.size\n"
   ]
  },
  {
   "cell_type": "code",
   "execution_count": null,
   "metadata": {
    "collapsed": false
   },
   "outputs": [],
   "source": [
    "feather.write_dataframe(sh_tweets, './tweets_df/sh_tweets.feather')"
   ]
  },
  {
   "cell_type": "code",
   "execution_count": null,
   "metadata": {
    "collapsed": false
   },
   "outputs": [],
   "source": [
    "import feather\n",
    "sh = feather.read_dataframe('./tweets_df/sh4.feather')\n",
    "sh\n",
    "#sh.size"
   ]
  },
  {
   "cell_type": "code",
   "execution_count": null,
   "metadata": {
    "collapsed": false
   },
   "outputs": [],
   "source": [
    "sh['body'] = [body for body in  sh.ix[:,0]]\n"
   ]
  },
  {
   "cell_type": "code",
   "execution_count": null,
   "metadata": {
    "collapsed": false
   },
   "outputs": [],
   "source": [
    "sh\n",
    "\n",
    "#import feather\n",
    "\n",
    "feather.write_dataframe(sh, './tweets_df/sh_test.feather')"
   ]
  },
  {
   "cell_type": "code",
   "execution_count": null,
   "metadata": {
    "collapsed": true
   },
   "outputs": [],
   "source": []
  }
 ],
 "metadata": {
  "kernelspec": {
   "display_name": "Python 3",
   "language": "python",
   "name": "python3"
  },
  "language_info": {
   "codemirror_mode": {
    "name": "ipython",
    "version": 3
   },
   "file_extension": ".py",
   "mimetype": "text/x-python",
   "name": "python",
   "nbconvert_exporter": "python",
   "pygments_lexer": "ipython3",
   "version": "3.5.1"
  }
 },
 "nbformat": 4,
 "nbformat_minor": 0
}
